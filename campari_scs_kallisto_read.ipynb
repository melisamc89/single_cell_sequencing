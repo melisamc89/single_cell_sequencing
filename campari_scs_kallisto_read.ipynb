{
 "cells": [
  {
   "cell_type": "markdown",
   "id": "43124cac",
   "metadata": {},
   "source": [
    "# Single Cell Sequencing : kallisto readout\n",
    "\n",
    "It includes reading from fastq files using Kallisto (for that the mouse index of genes is required).\n",
    "\n",
    "\n",
    "\n",
    "IMPORTANT: AFTER RUNNING THIS, AND BEFORE GOING TO QUALITY CONTROL SOME OF THE .TXT FILES NEED TO HAVE A MANUAL MODIFICATION SO THEY CAN ME READ AS A PANDAS STRUCTURE LATER! I WILL SHOW THIS MANUALLY"
   ]
  },
  {
   "cell_type": "code",
   "execution_count": 1,
   "id": "61f0d05a",
   "metadata": {},
   "outputs": [],
   "source": [
    "# This is  used to time the running of the notebook\n",
    "import time\n",
    "start_time = time.time()"
   ]
  },
  {
   "cell_type": "code",
   "execution_count": 2,
   "id": "962fad7e",
   "metadata": {},
   "outputs": [
    {
     "name": "stdout",
     "output_type": "stream",
     "text": [
      "Requirement already satisfied: loompy in /home/melma31/mambaforge/lib/python3.10/site-packages (3.0.7)\n",
      "Requirement already satisfied: numpy in /home/melma31/mambaforge/lib/python3.10/site-packages (from loompy) (1.23.5)\n",
      "Requirement already satisfied: click in /home/melma31/mambaforge/lib/python3.10/site-packages (from loompy) (8.1.3)\n",
      "Requirement already satisfied: numba in /home/melma31/mambaforge/lib/python3.10/site-packages (from loompy) (0.56.4)\n",
      "Requirement already satisfied: setuptools in /home/melma31/mambaforge/lib/python3.10/site-packages (from loompy) (65.6.3)\n",
      "Requirement already satisfied: numpy-groupies in /home/melma31/mambaforge/lib/python3.10/site-packages (from loompy) (0.9.20)\n",
      "Requirement already satisfied: scipy in /home/melma31/mambaforge/lib/python3.10/site-packages (from loompy) (1.9.2)\n",
      "Requirement already satisfied: h5py in /home/melma31/mambaforge/lib/python3.10/site-packages (from loompy) (3.7.0)\n",
      "Requirement already satisfied: llvmlite<0.40,>=0.39.0dev0 in /home/melma31/mambaforge/lib/python3.10/site-packages (from numba->loompy) (0.39.1)\n",
      "CPU times: user 84.3 ms, sys: 34.2 ms, total: 118 ms\n",
      "Wall time: 9.12 s\n"
     ]
    }
   ],
   "source": [
    "%%time\n",
    "!pip install -U loompy\n",
    "!pip install --quiet matplotlib scikit-learn numpy scipy\n",
    "!pip3 install --quiet leidenalg\n",
    "!pip install --quiet louvain scanpy\n",
    "# install kb\n",
    "!pip install --quiet kb-python "
   ]
  },
  {
   "cell_type": "code",
   "execution_count": 3,
   "id": "d23706c6",
   "metadata": {},
   "outputs": [
    {
     "name": "stdout",
     "output_type": "stream",
     "text": [
      "[2023-09-01 11:12:47,592]    INFO [download] Skipping download because some files already exist. Use the --overwrite flag to overwrite.\n"
     ]
    }
   ],
   "source": [
    "### For comparing your sequencing with the already known genome you need to download the apropiate gene atlas\n",
    "### Use kallisto to download mouse index here\n",
    "\n",
    "!kb ref -d mouse -i index.idx -g t2g.txt"
   ]
  },
  {
   "cell_type": "code",
   "execution_count": null,
   "id": "22f2cd7a",
   "metadata": {},
   "outputs": [],
   "source": [
    "###SAMPLE1\n",
    "\n",
    "# This step runs `kb` to pseudoalign the reads, and then generate the cells x gene matrix in h5ad format.\n",
    "### genrealal structure:\n",
    "# index.idx and t2g.txt are files that were downloaded on the previous cell. They refer to the gene atlas\n",
    "# -x is the input to the sequencing technique that was use. Kallisto supports multiple sequencing techniques\n",
    "# (check kb --list for more information)\n",
    "# SMARTSEQ3 is the method we used for this sequencing\n",
    "# (this sequencing format requires 4 files to be processed togehter, to put all of them as inputs)\n",
    "# the 4 files have always names x_I1_001.fastq.gz, x_I2_001.fastq.gz, x_R1_001.fastq.gz and x_R2_001.fastq.gz\n",
    "# --h4ad is the desired output format. If loom file is prefered, just changed it there. "
   ]
  },
  {
   "cell_type": "code",
   "execution_count": null,
   "id": "c7cba5e4",
   "metadata": {},
   "outputs": [],
   "source": [
    "###SAMPLE1\n",
    "!kb count -i index.idx -g t2g.txt -x SMARTSEQ3 -o sample1 --h5ad\\\n",
    "/home/melma31/Documents/single_cell_sequencing/data/sample1/P28203_5007_S7_I1_001.fastq.gz \\\n",
    "/home/melma31/Documents/single_cell_sequencing/data/sample1/P28203_5007_S7_I2_001.fastq.gz \\\n",
    "/home/melma31/Documents/single_cell_sequencing/data/sample1/P28203_5007_S7_R1_001.fastq.gz \\\n",
    "/home/melma31/Documents/single_cell_sequencing/data/sample1/P28203_5007_S7_R2_001.fastq.gz "
   ]
  },
  {
   "cell_type": "code",
   "execution_count": null,
   "id": "3d571679",
   "metadata": {},
   "outputs": [],
   "source": [
    "###SAMPLE2\n",
    "!kb count -i index.idx -g t2g.txt -x SMARTSEQ3 -o sample2 --h5ad\\\n",
    "/home/melma31/Documents/single_cell_sequencing/data/sample2/P28605_8001_S1_I1_001.fastq.gz \\\n",
    "/home/melma31/Documents/single_cell_sequencing/data/sample2/P28605_8001_S1_I2_001.fastq.gz \\\n",
    "/home/melma31/Documents/single_cell_sequencing/data/sample2/P28605_8001_S1_R1_001.fastq.gz \\\n",
    "/home/melma31/Documents/single_cell_sequencing/data/sample2/P28605_8001_S1_R2_001.fastq.gz "
   ]
  },
  {
   "cell_type": "code",
   "execution_count": null,
   "id": "8462b905",
   "metadata": {},
   "outputs": [],
   "source": [
    "###SAMPLE3\n",
    "!kb count -i index.idx -g t2g.txt -x SMARTSEQ3 -o sample3 --h5ad\\\n",
    "/home/melma31/Documents/single_cell_sequencing/data/sample3/P29058_6012_S12_I1_001.fastq.gz \\\n",
    "/home/melma31/Documents/single_cell_sequencing/data/sample3/P29058_6012_S12_I2_001.fastq.gz \\\n",
    "/home/melma31/Documents/single_cell_sequencing/data/sample3/P29058_6012_S12_R1_001.fastq.gz \\\n",
    "/home/melma31/Documents/single_cell_sequencing/data/sample3/P29058_6012_S12_R2_001.fastq.gz "
   ]
  },
  {
   "cell_type": "code",
   "execution_count": null,
   "id": "4cb816c0",
   "metadata": {},
   "outputs": [],
   "source": [
    "###SAMPLE4\n",
    "#!kb count -i index.idx -g t2g.txt -x SMARTSEQ3 -o sample3 --h5ad\\\n",
    "#/home/melma31/Documents/single_cell_sequencing/data/sample3/..._I1_001.fastq.gz \\\n",
    "#/home/melma31/Documents/single_cell_sequencing/data/sample3/..._I2_001.fastq.gz \\\n",
    "#/home/melma31/Documents/single_cell_sequencing/data/sample3/..._R1_001.fastq.gz \\\n",
    "#/home/melma31/Documents/single_cell_sequencing/data/sample3/..._R2_001.fastq.gz "
   ]
  },
  {
   "cell_type": "code",
   "execution_count": null,
   "id": "18061a80",
   "metadata": {},
   "outputs": [],
   "source": [
    "###SAMPLE5\n",
    "#!kb count -i index.idx -g t2g.txt -x SMARTSEQ3 -o sample3 --h5ad\\\n",
    "#/home/melma31/Documents/single_cell_sequencing/data/sample3/..._I1_001.fastq.gz \\\n",
    "#/home/melma31/Documents/single_cell_sequencing/data/sample3/..._I2_001.fastq.gz \\\n",
    "#/home/melma31/Documents/single_cell_sequencing/data/sample3/..._R1_001.fastq.gz \\\n",
    "#/home/melma31/Documents/single_cell_sequencing/data/sample3/..._R2_001.fastq.gz "
   ]
  },
  {
   "cell_type": "code",
   "execution_count": null,
   "id": "aa342f6c",
   "metadata": {},
   "outputs": [],
   "source": [
    "###SAMPLE6\n",
    "#!kb count -i index.idx -g t2g.txt -x SMARTSEQ3 -o sample3 --h5ad\\\n",
    "#/home/melma31/Documents/single_cell_sequencing/data/sample3/..._I1_001.fastq.gz \\\n",
    "#/home/melma31/Documents/single_cell_sequencing/data/sample3/..._I2_001.fastq.gz \\\n",
    "#/home/melma31/Documents/single_cell_sequencing/data/sample3/..._R1_001.fastq.gz \\\n",
    "#/home/melma31/Documents/single_cell_sequencing/data/sample3/..._R2_001.fastq.gz "
   ]
  }
 ],
 "metadata": {
  "kernelspec": {
   "display_name": "Python 3 (ipykernel)",
   "language": "python",
   "name": "python3"
  },
  "language_info": {
   "codemirror_mode": {
    "name": "ipython",
    "version": 3
   },
   "file_extension": ".py",
   "mimetype": "text/x-python",
   "name": "python",
   "nbconvert_exporter": "python",
   "pygments_lexer": "ipython3",
   "version": "3.11.5"
  }
 },
 "nbformat": 4,
 "nbformat_minor": 5
}
