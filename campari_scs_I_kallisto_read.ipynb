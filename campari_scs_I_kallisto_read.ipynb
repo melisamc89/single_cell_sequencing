{
 "cells": [
  {
   "cell_type": "markdown",
   "id": "43124cac",
   "metadata": {},
   "source": [
    "# Single Cell Sequencing : kallisto readout\n",
    "\n",
    "It includes reading from fastq files using Kallisto (for that the mouse index of genes is required).\n",
    "\n",
    "\n",
    "\n",
    "IMPORTANT: AFTER RUNNING THIS, AND BEFORE GOING TO QUALITY CONTROL SOME OF THE .TXT FILES NEED TO HAVE A MANUAL MODIFICATION SO THEY CAN ME READ AS A PANDAS STRUCTURE LATER! I WILL SHOW THIS MANUALLY"
   ]
  },
  {
   "cell_type": "code",
   "execution_count": 1,
   "id": "61f0d05a",
   "metadata": {
    "tags": []
   },
   "outputs": [],
   "source": [
    "# This is  used to time the running of the notebook\n",
    "import time\n",
    "start_time = time.time()"
   ]
  },
  {
   "cell_type": "code",
   "execution_count": 2,
   "id": "962fad7e",
   "metadata": {
    "tags": []
   },
   "outputs": [
    {
     "name": "stdout",
     "output_type": "stream",
     "text": [
      "Requirement already satisfied: loompy in /home/melma31/anaconda3/lib/python3.11/site-packages (3.0.7)\n",
      "Requirement already satisfied: h5py in /home/melma31/anaconda3/lib/python3.11/site-packages (from loompy) (3.9.0)\n",
      "Requirement already satisfied: numpy in /home/melma31/anaconda3/lib/python3.11/site-packages (from loompy) (1.24.3)\n",
      "Requirement already satisfied: scipy in /home/melma31/anaconda3/lib/python3.11/site-packages (from loompy) (1.11.1)\n",
      "Requirement already satisfied: setuptools in /home/melma31/anaconda3/lib/python3.11/site-packages (from loompy) (68.0.0)\n",
      "Requirement already satisfied: numba in /home/melma31/anaconda3/lib/python3.11/site-packages (from loompy) (0.57.1)\n",
      "Requirement already satisfied: click in /home/melma31/anaconda3/lib/python3.11/site-packages (from loompy) (8.0.4)\n",
      "Requirement already satisfied: numpy-groupies in /home/melma31/anaconda3/lib/python3.11/site-packages (from loompy) (0.11.2)\n",
      "Requirement already satisfied: llvmlite<0.41,>=0.40.0dev0 in /home/melma31/anaconda3/lib/python3.11/site-packages (from numba->loompy) (0.40.0)\n",
      "CPU times: user 99.7 ms, sys: 38.3 ms, total: 138 ms\n",
      "Wall time: 15.9 s\n"
     ]
    }
   ],
   "source": [
    "%%time\n",
    "!pip install -U loompy\n",
    "!pip install --quiet matplotlib scikit-learn numpy scipy\n",
    "!pip3 install --quiet leidenalg\n",
    "!pip install --quiet louvain scanpy\n",
    "# install kb\n",
    "!pip install --quiet kb-python "
   ]
  },
  {
   "cell_type": "code",
   "execution_count": 3,
   "id": "d23706c6",
   "metadata": {
    "tags": []
   },
   "outputs": [
    {
     "name": "stdout",
     "output_type": "stream",
     "text": [
      "[2024-08-05 12:17:52,215]    INFO [download] Downloading files for mouse (standard workflow) from https://github.com/pachterlab/kallisto-transcriptome-indices/releases/download/v1/mouse_index_standard.tar.xz to tmp/mouse_index_standard.tar.xz\n",
      "100%|██████████████████████████████████████| 82.8M/82.8M [00:10<00:00, 8.24MB/s]\n",
      "[2024-08-05 12:18:02,753]    INFO [download] Extracting files from tmp/mouse_index_standard.tar.xz\n"
     ]
    }
   ],
   "source": [
    "### For comparing your sequencing with the already known genome you need to download the apropiate gene atlas\n",
    "### Use kallisto to download mouse index here\n",
    "\n",
    "!kb ref -d mouse -i index.idx -g t2g.txt"
   ]
  },
  {
   "cell_type": "code",
   "execution_count": 4,
   "id": "22f2cd7a",
   "metadata": {},
   "outputs": [],
   "source": [
    "###SAMPLE1\n",
    "\n",
    "# This step runs `kb` to pseudoalign the reads, and then generate the cells x gene matrix in h5ad format.\n",
    "### genrealal structure:\n",
    "# index.idx and t2g.txt are files that were downloaded on the previous cell. They refer to the gene atlas\n",
    "# -x is the input to the sequencing technique that was use. Kallisto supports multiple sequencing techniques\n",
    "# (check kb --list for more information)\n",
    "# SMARTSEQ3 is the method we used for this sequencing\n",
    "# (this sequencing format requires 4 files to be processed togehter, to put all of them as inputs)\n",
    "# the 4 files have always names x_I1_001.fastq.gz, x_I2_001.fastq.gz, x_R1_001.fastq.gz and x_R2_001.fastq.gz\n",
    "# --h4ad is the desired output format. If loom file is prefered, just changed it there. "
   ]
  },
  {
   "cell_type": "code",
   "execution_count": 4,
   "id": "c7cba5e4",
   "metadata": {
    "tags": []
   },
   "outputs": [
    {
     "name": "stdout",
     "output_type": "stream",
     "text": [
      "[2024-08-05 12:33:40,961]    INFO [count] Using index index.idx to generate BUS file to sample1 from\n",
      "[2024-08-05 12:33:40,962]    INFO [count]         /home/melma31/Documents/single_cell_sequencing/data/sample1/P28203_5007_S7_I1_001.fastq.gz\n",
      "[2024-08-05 12:33:40,962]    INFO [count]         /home/melma31/Documents/single_cell_sequencing/data/sample1/P28203_5007_S7_I2_001.fastq.gz\n",
      "[2024-08-05 12:33:40,962]    INFO [count]         /home/melma31/Documents/single_cell_sequencing/data/sample1/P28203_5007_S7_R1_001.fastq.gz\n",
      "[2024-08-05 12:33:40,962]    INFO [count]         /home/melma31/Documents/single_cell_sequencing/data/sample1/P28203_5007_S7_R2_001.fastq.gz\n",
      "[2024-08-05 12:49:01,218]    INFO [count] Sorting BUS file sample1/output.bus to sample1/tmp/output.s.bus\n",
      "[2024-08-05 12:49:19,545]    INFO [count] On-list not provided\n",
      "[2024-08-05 12:49:19,545]    INFO [count] Generating on-list sample1/whitelist.txt from BUS file sample1/tmp/output.s.bus\n",
      "[2024-08-05 12:49:20,746]    INFO [count] Inspecting BUS file sample1/tmp/output.s.bus\n",
      "[2024-08-05 12:49:22,148]    INFO [count] Correcting BUS records in sample1/tmp/output.s.bus to sample1/tmp/output.s.c.bus with on-list sample1/whitelist.txt\n",
      "[2024-08-05 12:49:27,354]    INFO [count] Sorting BUS file sample1/tmp/output.s.c.bus to sample1/output.unfiltered.bus\n",
      "[2024-08-05 12:49:33,364]    INFO [count] Capturing records from BUS file sample1/output.unfiltered.bus to sample1/output_internal.bus with capture list sample1/capture_nonUMI.txt\n",
      "[2024-08-05 12:49:36,269]    INFO [count] Inspecting BUS file sample1/output_internal.bus\n",
      "[2024-08-05 12:49:37,371]    INFO [count] Sorting BUS file sample1/output_internal.bus to sample1/output_internal.unfiltered.bus\n",
      "[2024-08-05 12:49:40,075]    INFO [count] Generating count matrix sample1/counts_unfiltered_internal/cells_x_genes from BUS file sample1/output_internal.unfiltered.bus\n",
      "[2024-08-05 12:49:46,170]    INFO [count] Writing gene names to file sample1/counts_unfiltered_internal/cells_x_genes.genes.names.txt\n",
      "[2024-08-05 12:49:46,303] WARNING [count] 1599 gene IDs do not have corresponding valid gene names. These genes will use their gene IDs instead.\n",
      "[2024-08-05 12:49:46,318]    INFO [count] Reading matrix sample1/counts_unfiltered_internal/cells_x_genes.mtx\n",
      "[2024-08-05 12:49:49,114]    INFO [count] Writing matrix to h5ad sample1/counts_unfiltered_internal/adata.h5ad\n",
      "[2024-08-05 12:49:49,183]    INFO [count] Capturing records from BUS file sample1/output.unfiltered.bus to sample1/output_umi.bus with capture list sample1/capture_nonUMI.txt\n",
      "[2024-08-05 12:49:54,090]    INFO [count] Inspecting BUS file sample1/output_umi.bus\n",
      "[2024-08-05 12:49:55,392]    INFO [count] Sorting BUS file sample1/output_umi.bus to sample1/output_umi.unfiltered.bus\n",
      "[2024-08-05 12:50:00,499]    INFO [count] Generating count matrix sample1/counts_unfiltered_umi/cells_x_genes from BUS file sample1/output_umi.unfiltered.bus\n",
      "[2024-08-05 12:50:10,068]    INFO [count] Writing gene names to file sample1/counts_unfiltered_umi/cells_x_genes.genes.names.txt\n",
      "[2024-08-05 12:50:10,187] WARNING [count] 1599 gene IDs do not have corresponding valid gene names. These genes will use their gene IDs instead.\n",
      "[2024-08-05 12:50:10,205]    INFO [count] Reading matrix sample1/counts_unfiltered_umi/cells_x_genes.mtx\n",
      "[2024-08-05 12:50:12,884]    INFO [count] Writing matrix to h5ad sample1/counts_unfiltered_umi/adata.h5ad\n"
     ]
    }
   ],
   "source": [
    "###SAMPLE1\n",
    "!kb count -i index.idx -g t2g.txt -x SMARTSEQ3 -o sample1 --h5ad\\\n",
    "/home/melma31/Documents/single_cell_sequencing/data/sample1/P28203_5007_S7_I1_001.fastq.gz \\\n",
    "/home/melma31/Documents/single_cell_sequencing/data/sample1/P28203_5007_S7_I2_001.fastq.gz \\\n",
    "/home/melma31/Documents/single_cell_sequencing/data/sample1/P28203_5007_S7_R1_001.fastq.gz \\\n",
    "/home/melma31/Documents/single_cell_sequencing/data/sample1/P28203_5007_S7_R2_001.fastq.gz "
   ]
  },
  {
   "cell_type": "code",
   "execution_count": 5,
   "id": "3d571679",
   "metadata": {
    "tags": []
   },
   "outputs": [
    {
     "name": "stdout",
     "output_type": "stream",
     "text": [
      "[2024-08-06 09:43:16,057]    INFO [count] Using index index.idx to generate BUS file to sample2 from\n",
      "[2024-08-06 09:43:16,057]    INFO [count]         /home/melma31/Documents/single_cell_sequencing/data/sample2/P28605_8001_S1_I1_001.fastq.gz\n",
      "[2024-08-06 09:43:16,057]    INFO [count]         /home/melma31/Documents/single_cell_sequencing/data/sample2/P28605_8001_S1_I2_001.fastq.gz\n",
      "[2024-08-06 09:43:16,057]    INFO [count]         /home/melma31/Documents/single_cell_sequencing/data/sample2/P28605_8001_S1_R1_001.fastq.gz\n",
      "[2024-08-06 09:43:16,057]    INFO [count]         /home/melma31/Documents/single_cell_sequencing/data/sample2/P28605_8001_S1_R2_001.fastq.gz\n",
      "[2024-08-06 10:02:24,833]    INFO [count] Sorting BUS file sample2/output.bus to sample2/tmp/output.s.bus\n",
      "[2024-08-06 10:02:52,067]    INFO [count] On-list not provided\n",
      "[2024-08-06 10:02:52,067]    INFO [count] Generating on-list sample2/whitelist.txt from BUS file sample2/tmp/output.s.bus\n",
      "[2024-08-06 10:02:53,368]    INFO [count] Inspecting BUS file sample2/tmp/output.s.bus\n",
      "[2024-08-06 10:02:54,871]    INFO [count] Correcting BUS records in sample2/tmp/output.s.bus to sample2/tmp/output.s.c.bus with on-list sample2/whitelist.txt\n",
      "[2024-08-06 10:03:02,181]    INFO [count] Sorting BUS file sample2/tmp/output.s.c.bus to sample2/output.unfiltered.bus\n",
      "[2024-08-06 10:03:19,102]    INFO [count] Capturing records from BUS file sample2/output.unfiltered.bus to sample2/output_internal.bus with capture list sample2/capture_nonUMI.txt\n",
      "[2024-08-06 10:03:22,907]    INFO [count] Inspecting BUS file sample2/output_internal.bus\n",
      "[2024-08-06 10:03:24,009]    INFO [count] Sorting BUS file sample2/output_internal.bus to sample2/output_internal.unfiltered.bus\n",
      "[2024-08-06 10:03:27,715]    INFO [count] Generating count matrix sample2/counts_unfiltered_internal/cells_x_genes from BUS file sample2/output_internal.unfiltered.bus\n",
      "[2024-08-06 10:03:34,521]    INFO [count] Writing gene names to file sample2/counts_unfiltered_internal/cells_x_genes.genes.names.txt\n",
      "[2024-08-06 10:03:34,637] WARNING [count] 1599 gene IDs do not have corresponding valid gene names. These genes will use their gene IDs instead.\n",
      "[2024-08-06 10:03:34,651]    INFO [count] Reading matrix sample2/counts_unfiltered_internal/cells_x_genes.mtx\n",
      "[2024-08-06 10:03:37,669]    INFO [count] Writing matrix to h5ad sample2/counts_unfiltered_internal/adata.h5ad\n",
      "[2024-08-06 10:03:37,738]    INFO [count] Capturing records from BUS file sample2/output.unfiltered.bus to sample2/output_umi.bus with capture list sample2/capture_nonUMI.txt\n",
      "[2024-08-06 10:03:46,350]    INFO [count] Inspecting BUS file sample2/output_umi.bus\n",
      "[2024-08-06 10:03:47,752]    INFO [count] Sorting BUS file sample2/output_umi.bus to sample2/output_umi.unfiltered.bus\n",
      "[2024-08-06 10:03:55,966]    INFO [count] Generating count matrix sample2/counts_unfiltered_umi/cells_x_genes from BUS file sample2/output_umi.unfiltered.bus\n",
      "[2024-08-06 10:04:08,980]    INFO [count] Writing gene names to file sample2/counts_unfiltered_umi/cells_x_genes.genes.names.txt\n",
      "[2024-08-06 10:04:09,087] WARNING [count] 1599 gene IDs do not have corresponding valid gene names. These genes will use their gene IDs instead.\n",
      "[2024-08-06 10:04:09,105]    INFO [count] Reading matrix sample2/counts_unfiltered_umi/cells_x_genes.mtx\n",
      "[2024-08-06 10:04:12,128]    INFO [count] Writing matrix to h5ad sample2/counts_unfiltered_umi/adata.h5ad\n"
     ]
    }
   ],
   "source": [
    "###SAMPLE2\n",
    "!kb count -i index.idx -g t2g.txt -x SMARTSEQ3 -o sample2 --h5ad\\\n",
    "/home/melma31/Documents/single_cell_sequencing/data/sample2/P28605_8001_S1_I1_001.fastq.gz \\\n",
    "/home/melma31/Documents/single_cell_sequencing/data/sample2/P28605_8001_S1_I2_001.fastq.gz \\\n",
    "/home/melma31/Documents/single_cell_sequencing/data/sample2/P28605_8001_S1_R1_001.fastq.gz \\\n",
    "/home/melma31/Documents/single_cell_sequencing/data/sample2/P28605_8001_S1_R2_001.fastq.gz "
   ]
  },
  {
   "cell_type": "code",
   "execution_count": 6,
   "id": "8462b905",
   "metadata": {
    "tags": []
   },
   "outputs": [
    {
     "name": "stdout",
     "output_type": "stream",
     "text": [
      "[2024-08-06 10:11:11,045]    INFO [count] Using index index.idx to generate BUS file to sample3 from\n",
      "[2024-08-06 10:11:11,045]    INFO [count]         /home/melma31/Documents/single_cell_sequencing/data/sample3/P29058_6012_S12_I1_001.fastq.gz\n",
      "[2024-08-06 10:11:11,045]    INFO [count]         /home/melma31/Documents/single_cell_sequencing/data/sample3/P29058_6012_S12_I2_001.fastq.gz\n",
      "[2024-08-06 10:11:11,045]    INFO [count]         /home/melma31/Documents/single_cell_sequencing/data/sample3/P29058_6012_S12_R1_001.fastq.gz\n",
      "[2024-08-06 10:11:11,046]    INFO [count]         /home/melma31/Documents/single_cell_sequencing/data/sample3/P29058_6012_S12_R2_001.fastq.gz\n",
      "[2024-08-06 10:25:12,245]    INFO [count] Sorting BUS file sample3/output.bus to sample3/tmp/output.s.bus\n",
      "[2024-08-06 10:25:30,969]    INFO [count] On-list not provided\n",
      "[2024-08-06 10:25:30,969]    INFO [count] Generating on-list sample3/whitelist.txt from BUS file sample3/tmp/output.s.bus\n",
      "[2024-08-06 10:25:32,170]    INFO [count] Inspecting BUS file sample3/tmp/output.s.bus\n",
      "[2024-08-06 10:25:33,573]    INFO [count] Correcting BUS records in sample3/tmp/output.s.bus to sample3/tmp/output.s.c.bus with on-list sample3/whitelist.txt\n",
      "[2024-08-06 10:25:38,678]    INFO [count] Sorting BUS file sample3/tmp/output.s.c.bus to sample3/output.unfiltered.bus\n",
      "[2024-08-06 10:25:44,586]    INFO [count] Capturing records from BUS file sample3/output.unfiltered.bus to sample3/output_internal.bus with capture list sample3/capture_nonUMI.txt\n",
      "[2024-08-06 10:25:47,590]    INFO [count] Inspecting BUS file sample3/output_internal.bus\n",
      "[2024-08-06 10:25:48,692]    INFO [count] Sorting BUS file sample3/output_internal.bus to sample3/output_internal.unfiltered.bus\n",
      "[2024-08-06 10:25:51,497]    INFO [count] Generating count matrix sample3/counts_unfiltered_internal/cells_x_genes from BUS file sample3/output_internal.unfiltered.bus\n",
      "[2024-08-06 10:25:58,215]    INFO [count] Writing gene names to file sample3/counts_unfiltered_internal/cells_x_genes.genes.names.txt\n",
      "[2024-08-06 10:25:58,356] WARNING [count] 1599 gene IDs do not have corresponding valid gene names. These genes will use their gene IDs instead.\n",
      "[2024-08-06 10:25:58,372]    INFO [count] Reading matrix sample3/counts_unfiltered_internal/cells_x_genes.mtx\n",
      "[2024-08-06 10:26:01,458]    INFO [count] Writing matrix to h5ad sample3/counts_unfiltered_internal/adata.h5ad\n",
      "[2024-08-06 10:26:01,550]    INFO [count] Capturing records from BUS file sample3/output.unfiltered.bus to sample3/output_umi.bus with capture list sample3/capture_nonUMI.txt\n",
      "[2024-08-06 10:26:06,156]    INFO [count] Inspecting BUS file sample3/output_umi.bus\n",
      "[2024-08-06 10:26:07,457]    INFO [count] Sorting BUS file sample3/output_umi.bus to sample3/output_umi.unfiltered.bus\n",
      "[2024-08-06 10:26:12,163]    INFO [count] Generating count matrix sample3/counts_unfiltered_umi/cells_x_genes from BUS file sample3/output_umi.unfiltered.bus\n",
      "[2024-08-06 10:26:21,697]    INFO [count] Writing gene names to file sample3/counts_unfiltered_umi/cells_x_genes.genes.names.txt\n",
      "[2024-08-06 10:26:21,817] WARNING [count] 1599 gene IDs do not have corresponding valid gene names. These genes will use their gene IDs instead.\n",
      "[2024-08-06 10:26:21,836]    INFO [count] Reading matrix sample3/counts_unfiltered_umi/cells_x_genes.mtx\n",
      "[2024-08-06 10:26:24,849]    INFO [count] Writing matrix to h5ad sample3/counts_unfiltered_umi/adata.h5ad\n"
     ]
    }
   ],
   "source": [
    "###SAMPLE3\n",
    "!kb count -i index.idx -g t2g.txt -x SMARTSEQ3 -o sample3 --h5ad\\\n",
    "/home/melma31/Documents/single_cell_sequencing/data/sample3/P29058_6012_S12_I1_001.fastq.gz \\\n",
    "/home/melma31/Documents/single_cell_sequencing/data/sample3/P29058_6012_S12_I2_001.fastq.gz \\\n",
    "/home/melma31/Documents/single_cell_sequencing/data/sample3/P29058_6012_S12_R1_001.fastq.gz \\\n",
    "/home/melma31/Documents/single_cell_sequencing/data/sample3/P29058_6012_S12_R2_001.fastq.gz "
   ]
  },
  {
   "cell_type": "code",
   "execution_count": 7,
   "id": "4cb816c0",
   "metadata": {
    "tags": []
   },
   "outputs": [
    {
     "name": "stdout",
     "output_type": "stream",
     "text": [
      "[2024-08-06 10:39:49,324]    INFO [count] Using index index.idx to generate BUS file to sample4 from\n",
      "[2024-08-06 10:39:49,324]    INFO [count]         /home/melma31/Documents/single_cell_sequencing/data/sample4/P28606_1001_S14_I1_001.fastq.gz\n",
      "[2024-08-06 10:39:49,324]    INFO [count]         /home/melma31/Documents/single_cell_sequencing/data/sample4/P28606_1001_S14_I2_001.fastq.gz\n",
      "[2024-08-06 10:39:49,324]    INFO [count]         /home/melma31/Documents/single_cell_sequencing/data/sample4/P28606_1001_S14_R1_001.fastq.gz\n",
      "[2024-08-06 10:39:49,324]    INFO [count]         /home/melma31/Documents/single_cell_sequencing/data/sample4/P28606_1001_S14_R2_001.fastq.gz\n",
      "[2024-08-06 10:58:14,702]    INFO [count] Sorting BUS file sample4/output.bus to sample4/tmp/output.s.bus\n",
      "[2024-08-06 10:58:37,434]    INFO [count] On-list not provided\n",
      "[2024-08-06 10:58:37,434]    INFO [count] Generating on-list sample4/whitelist.txt from BUS file sample4/tmp/output.s.bus\n",
      "[2024-08-06 10:58:38,636]    INFO [count] Inspecting BUS file sample4/tmp/output.s.bus\n",
      "[2024-08-06 10:58:40,138]    INFO [count] Correcting BUS records in sample4/tmp/output.s.bus to sample4/tmp/output.s.c.bus with on-list sample4/whitelist.txt\n",
      "[2024-08-06 10:58:47,347]    INFO [count] Sorting BUS file sample4/tmp/output.s.c.bus to sample4/output.unfiltered.bus\n",
      "[2024-08-06 10:58:55,258]    INFO [count] Capturing records from BUS file sample4/output.unfiltered.bus to sample4/output_internal.bus with capture list sample4/capture_nonUMI.txt\n",
      "[2024-08-06 10:58:59,063]    INFO [count] Inspecting BUS file sample4/output_internal.bus\n",
      "[2024-08-06 10:59:00,164]    INFO [count] Sorting BUS file sample4/output_internal.bus to sample4/output_internal.unfiltered.bus\n",
      "[2024-08-06 10:59:03,569]    INFO [count] Generating count matrix sample4/counts_unfiltered_internal/cells_x_genes from BUS file sample4/output_internal.unfiltered.bus\n",
      "[2024-08-06 10:59:10,288]    INFO [count] Writing gene names to file sample4/counts_unfiltered_internal/cells_x_genes.genes.names.txt\n",
      "[2024-08-06 10:59:10,429] WARNING [count] 1599 gene IDs do not have corresponding valid gene names. These genes will use their gene IDs instead.\n",
      "[2024-08-06 10:59:10,446]    INFO [count] Reading matrix sample4/counts_unfiltered_internal/cells_x_genes.mtx\n",
      "[2024-08-06 10:59:13,492]    INFO [count] Writing matrix to h5ad sample4/counts_unfiltered_internal/adata.h5ad\n",
      "[2024-08-06 10:59:13,562]    INFO [count] Capturing records from BUS file sample4/output.unfiltered.bus to sample4/output_umi.bus with capture list sample4/capture_nonUMI.txt\n",
      "[2024-08-06 10:59:23,173]    INFO [count] Inspecting BUS file sample4/output_umi.bus\n",
      "[2024-08-06 10:59:24,575]    INFO [count] Sorting BUS file sample4/output_umi.bus to sample4/output_umi.unfiltered.bus\n",
      "[2024-08-06 10:59:33,185]    INFO [count] Generating count matrix sample4/counts_unfiltered_umi/cells_x_genes from BUS file sample4/output_umi.unfiltered.bus\n",
      "[2024-08-06 10:59:47,284]    INFO [count] Writing gene names to file sample4/counts_unfiltered_umi/cells_x_genes.genes.names.txt\n",
      "[2024-08-06 10:59:47,401] WARNING [count] 1599 gene IDs do not have corresponding valid gene names. These genes will use their gene IDs instead.\n",
      "[2024-08-06 10:59:47,419]    INFO [count] Reading matrix sample4/counts_unfiltered_umi/cells_x_genes.mtx\n",
      "[2024-08-06 10:59:50,989]    INFO [count] Writing matrix to h5ad sample4/counts_unfiltered_umi/adata.h5ad\n"
     ]
    }
   ],
   "source": [
    "###SAMPLE4\n",
    "!kb count -i index.idx -g t2g.txt -x SMARTSEQ3 -o sample4 --h5ad\\\n",
    "/home/melma31/Documents/single_cell_sequencing/data/sample4/P28606_1001_S14_I1_001.fastq.gz \\\n",
    "/home/melma31/Documents/single_cell_sequencing/data/sample4/P28606_1001_S14_I2_001.fastq.gz \\\n",
    "/home/melma31/Documents/single_cell_sequencing/data/sample4/P28606_1001_S14_R1_001.fastq.gz \\\n",
    "/home/melma31/Documents/single_cell_sequencing/data/sample4/P28606_1001_S14_R2_001.fastq.gz "
   ]
  },
  {
   "cell_type": "code",
   "execution_count": 8,
   "id": "18061a80",
   "metadata": {
    "tags": []
   },
   "outputs": [
    {
     "name": "stdout",
     "output_type": "stream",
     "text": [
      "[2024-08-06 11:01:30,196]    INFO [count] Using index index.idx to generate BUS file to sample5 from\n",
      "[2024-08-06 11:01:30,196]    INFO [count]         /home/melma31/Documents/single_cell_sequencing/data/sample5/P28606_1002_S15_I1_001.fastq.gz\n",
      "[2024-08-06 11:01:30,196]    INFO [count]         /home/melma31/Documents/single_cell_sequencing/data/sample5/P28606_1002_S15_I2_001.fastq.gz\n",
      "[2024-08-06 11:01:30,196]    INFO [count]         /home/melma31/Documents/single_cell_sequencing/data/sample5/P28606_1002_S15_R1_001.fastq.gz\n",
      "[2024-08-06 11:01:30,196]    INFO [count]         /home/melma31/Documents/single_cell_sequencing/data/sample5/P28606_1002_S15_R2_001.fastq.gz\n",
      "[2024-08-06 11:18:41,532]    INFO [count] Sorting BUS file sample5/output.bus to sample5/tmp/output.s.bus\n",
      "[2024-08-06 11:19:01,458]    INFO [count] On-list not provided\n",
      "[2024-08-06 11:19:01,458]    INFO [count] Generating on-list sample5/whitelist.txt from BUS file sample5/tmp/output.s.bus\n",
      "[2024-08-06 11:19:02,660]    INFO [count] Inspecting BUS file sample5/tmp/output.s.bus\n",
      "[2024-08-06 11:19:04,063]    INFO [count] Correcting BUS records in sample5/tmp/output.s.bus to sample5/tmp/output.s.c.bus with on-list sample5/whitelist.txt\n",
      "[2024-08-06 11:19:09,469]    INFO [count] Sorting BUS file sample5/tmp/output.s.c.bus to sample5/output.unfiltered.bus\n",
      "[2024-08-06 11:19:16,188]    INFO [count] Capturing records from BUS file sample5/output.unfiltered.bus to sample5/output_internal.bus with capture list sample5/capture_nonUMI.txt\n",
      "[2024-08-06 11:19:19,292]    INFO [count] Inspecting BUS file sample5/output_internal.bus\n",
      "[2024-08-06 11:19:20,394]    INFO [count] Sorting BUS file sample5/output_internal.bus to sample5/output_internal.unfiltered.bus\n",
      "[2024-08-06 11:19:23,199]    INFO [count] Generating count matrix sample5/counts_unfiltered_internal/cells_x_genes from BUS file sample5/output_internal.unfiltered.bus\n",
      "[2024-08-06 11:19:31,373]    INFO [count] Writing gene names to file sample5/counts_unfiltered_internal/cells_x_genes.genes.names.txt\n",
      "[2024-08-06 11:19:31,551] WARNING [count] 1599 gene IDs do not have corresponding valid gene names. These genes will use their gene IDs instead.\n",
      "[2024-08-06 11:19:31,567]    INFO [count] Reading matrix sample5/counts_unfiltered_internal/cells_x_genes.mtx\n",
      "[2024-08-06 11:19:35,416]    INFO [count] Writing matrix to h5ad sample5/counts_unfiltered_internal/adata.h5ad\n",
      "[2024-08-06 11:19:35,501]    INFO [count] Capturing records from BUS file sample5/output.unfiltered.bus to sample5/output_umi.bus with capture list sample5/capture_nonUMI.txt\n",
      "[2024-08-06 11:19:41,008]    INFO [count] Inspecting BUS file sample5/output_umi.bus\n",
      "[2024-08-06 11:19:42,409]    INFO [count] Sorting BUS file sample5/output_umi.bus to sample5/output_umi.unfiltered.bus\n",
      "[2024-08-06 11:19:48,016]    INFO [count] Generating count matrix sample5/counts_unfiltered_umi/cells_x_genes from BUS file sample5/output_umi.unfiltered.bus\n",
      "[2024-08-06 11:19:59,848]    INFO [count] Writing gene names to file sample5/counts_unfiltered_umi/cells_x_genes.genes.names.txt\n",
      "[2024-08-06 11:19:59,973] WARNING [count] 1599 gene IDs do not have corresponding valid gene names. These genes will use their gene IDs instead.\n",
      "[2024-08-06 11:19:59,991]    INFO [count] Reading matrix sample5/counts_unfiltered_umi/cells_x_genes.mtx\n",
      "[2024-08-06 11:20:03,615]    INFO [count] Writing matrix to h5ad sample5/counts_unfiltered_umi/adata.h5ad\n"
     ]
    }
   ],
   "source": [
    "###SAMPLE5\n",
    "!kb count -i index.idx -g t2g.txt -x SMARTSEQ3 -o sample5 --h5ad\\\n",
    "/home/melma31/Documents/single_cell_sequencing/data/sample5/P28606_1002_S15_I1_001.fastq.gz \\\n",
    "/home/melma31/Documents/single_cell_sequencing/data/sample5/P28606_1002_S15_I2_001.fastq.gz \\\n",
    "/home/melma31/Documents/single_cell_sequencing/data/sample5/P28606_1002_S15_R1_001.fastq.gz \\\n",
    "/home/melma31/Documents/single_cell_sequencing/data/sample5/P28606_1002_S15_R2_001.fastq.gz "
   ]
  },
  {
   "cell_type": "code",
   "execution_count": 9,
   "id": "aa342f6c",
   "metadata": {
    "tags": []
   },
   "outputs": [
    {
     "name": "stdout",
     "output_type": "stream",
     "text": [
      "[2024-08-06 11:27:19,018]    INFO [count] Using index index.idx to generate BUS file to sample6 from\n",
      "[2024-08-06 11:27:19,018]    INFO [count]         /home/melma31/Documents/single_cell_sequencing/data/sample6/P29910_1001_S5_I1_001.fastq.gz\n",
      "[2024-08-06 11:27:19,018]    INFO [count]         /home/melma31/Documents/single_cell_sequencing/data/sample6/P29910_1001_S5_I2_001.fastq.gz\n",
      "[2024-08-06 11:27:19,018]    INFO [count]         /home/melma31/Documents/single_cell_sequencing/data/sample6/P29910_1001_S5_R1_001.fastq.gz\n",
      "[2024-08-06 11:27:19,018]    INFO [count]         /home/melma31/Documents/single_cell_sequencing/data/sample6/P29910_1001_S5_R2_001.fastq.gz\n",
      "[2024-08-06 11:40:48,735]    INFO [count] Sorting BUS file sample6/output.bus to sample6/tmp/output.s.bus\n",
      "[2024-08-06 11:41:06,760]    INFO [count] On-list not provided\n",
      "[2024-08-06 11:41:06,760]    INFO [count] Generating on-list sample6/whitelist.txt from BUS file sample6/tmp/output.s.bus\n",
      "[2024-08-06 11:41:07,962]    INFO [count] Inspecting BUS file sample6/tmp/output.s.bus\n",
      "[2024-08-06 11:41:09,364]    INFO [count] Correcting BUS records in sample6/tmp/output.s.bus to sample6/tmp/output.s.c.bus with on-list sample6/whitelist.txt\n",
      "[2024-08-06 11:41:15,070]    INFO [count] Sorting BUS file sample6/tmp/output.s.c.bus to sample6/output.unfiltered.bus\n",
      "[2024-08-06 11:41:21,980]    INFO [count] Capturing records from BUS file sample6/output.unfiltered.bus to sample6/output_internal.bus with capture list sample6/capture_nonUMI.txt\n",
      "[2024-08-06 11:41:25,183]    INFO [count] Inspecting BUS file sample6/output_internal.bus\n",
      "[2024-08-06 11:41:26,285]    INFO [count] Sorting BUS file sample6/output_internal.bus to sample6/output_internal.unfiltered.bus\n",
      "[2024-08-06 11:41:29,588]    INFO [count] Generating count matrix sample6/counts_unfiltered_internal/cells_x_genes from BUS file sample6/output_internal.unfiltered.bus\n",
      "[2024-08-06 11:41:36,076]    INFO [count] Writing gene names to file sample6/counts_unfiltered_internal/cells_x_genes.genes.names.txt\n",
      "[2024-08-06 11:41:36,233] WARNING [count] 1599 gene IDs do not have corresponding valid gene names. These genes will use their gene IDs instead.\n",
      "[2024-08-06 11:41:36,250]    INFO [count] Reading matrix sample6/counts_unfiltered_internal/cells_x_genes.mtx\n",
      "[2024-08-06 11:41:39,254]    INFO [count] Writing matrix to h5ad sample6/counts_unfiltered_internal/adata.h5ad\n",
      "[2024-08-06 11:41:39,322]    INFO [count] Capturing records from BUS file sample6/output.unfiltered.bus to sample6/output_umi.bus with capture list sample6/capture_nonUMI.txt\n",
      "[2024-08-06 11:41:44,628]    INFO [count] Inspecting BUS file sample6/output_umi.bus\n",
      "[2024-08-06 11:41:46,030]    INFO [count] Sorting BUS file sample6/output_umi.bus to sample6/output_umi.unfiltered.bus\n",
      "[2024-08-06 11:41:53,839]    INFO [count] Generating count matrix sample6/counts_unfiltered_umi/cells_x_genes from BUS file sample6/output_umi.unfiltered.bus\n",
      "[2024-08-06 11:42:04,846]    INFO [count] Writing gene names to file sample6/counts_unfiltered_umi/cells_x_genes.genes.names.txt\n",
      "[2024-08-06 11:42:04,990] WARNING [count] 1599 gene IDs do not have corresponding valid gene names. These genes will use their gene IDs instead.\n",
      "[2024-08-06 11:42:05,010]    INFO [count] Reading matrix sample6/counts_unfiltered_umi/cells_x_genes.mtx\n",
      "[2024-08-06 11:42:07,881]    INFO [count] Writing matrix to h5ad sample6/counts_unfiltered_umi/adata.h5ad\n"
     ]
    }
   ],
   "source": [
    "###SAMPLE6\n",
    "!kb count -i index.idx -g t2g.txt -x SMARTSEQ3 -o sample6 --h5ad\\\n",
    "/home/melma31/Documents/single_cell_sequencing/data/sample6/P29910_1001_S5_I1_001.fastq.gz \\\n",
    "/home/melma31/Documents/single_cell_sequencing/data/sample6/P29910_1001_S5_I2_001.fastq.gz \\\n",
    "/home/melma31/Documents/single_cell_sequencing/data/sample6/P29910_1001_S5_R1_001.fastq.gz \\\n",
    "/home/melma31/Documents/single_cell_sequencing/data/sample6/P29910_1001_S5_R2_001.fastq.gz"
   ]
  },
  {
   "cell_type": "code",
   "execution_count": 13,
   "id": "2c07a8aa-cea2-40d6-9a07-06ba506ca37f",
   "metadata": {
    "tags": []
   },
   "outputs": [
    {
     "name": "stdout",
     "output_type": "stream",
     "text": [
      "[2024-08-06 13:29:39,121]    INFO [count] Using index index.idx to generate BUS file to sample7 from\n",
      "[2024-08-06 13:29:39,121]    INFO [count]         /home/melma31/Documents/single_cell_sequencing/data/sample7/P29910_1002_S6_I1_001.fastq.gz\n",
      "[2024-08-06 13:29:39,121]    INFO [count]         /home/melma31/Documents/single_cell_sequencing/data/sample7/P29910_1002_S6_I2_001.fastq.gz\n",
      "[2024-08-06 13:29:39,121]    INFO [count]         /home/melma31/Documents/single_cell_sequencing/data/sample7/P29910_1002_S6_R1_001.fastq.gz\n",
      "[2024-08-06 13:29:39,122]    INFO [count]         /home/melma31/Documents/single_cell_sequencing/data/sample7/P29910_1002_S6_R2_001.fastq.gz\n",
      "[2024-08-06 13:42:39,745]    INFO [count] Sorting BUS file sample7/output.bus to sample7/tmp/output.s.bus\n",
      "[2024-08-06 13:42:56,868]    INFO [count] On-list not provided\n",
      "[2024-08-06 13:42:56,868]    INFO [count] Generating on-list sample7/whitelist.txt from BUS file sample7/tmp/output.s.bus\n",
      "[2024-08-06 13:42:58,272]    INFO [count] Inspecting BUS file sample7/tmp/output.s.bus\n",
      "[2024-08-06 13:42:59,875]    INFO [count] Correcting BUS records in sample7/tmp/output.s.bus to sample7/tmp/output.s.c.bus with on-list sample7/whitelist.txt\n",
      "[2024-08-06 13:43:05,784]    INFO [count] Sorting BUS file sample7/tmp/output.s.c.bus to sample7/output.unfiltered.bus\n",
      "[2024-08-06 13:43:12,895]    INFO [count] Capturing records from BUS file sample7/output.unfiltered.bus to sample7/output_internal.bus with capture list sample7/capture_nonUMI.txt\n",
      "[2024-08-06 13:43:16,100]    INFO [count] Inspecting BUS file sample7/output_internal.bus\n",
      "[2024-08-06 13:43:17,202]    INFO [count] Sorting BUS file sample7/output_internal.bus to sample7/output_internal.unfiltered.bus\n",
      "[2024-08-06 13:43:20,207]    INFO [count] Generating count matrix sample7/counts_unfiltered_internal/cells_x_genes from BUS file sample7/output_internal.unfiltered.bus\n",
      "[2024-08-06 13:43:25,646]    INFO [count] Writing gene names to file sample7/counts_unfiltered_internal/cells_x_genes.genes.names.txt\n",
      "[2024-08-06 13:43:25,769] WARNING [count] 1599 gene IDs do not have corresponding valid gene names. These genes will use their gene IDs instead.\n",
      "[2024-08-06 13:43:25,786]    INFO [count] Reading matrix sample7/counts_unfiltered_internal/cells_x_genes.mtx\n",
      "[2024-08-06 13:43:28,166]    INFO [count] Writing matrix to h5ad sample7/counts_unfiltered_internal/adata.h5ad\n",
      "[2024-08-06 13:43:28,255]    INFO [count] Capturing records from BUS file sample7/output.unfiltered.bus to sample7/output_umi.bus with capture list sample7/capture_nonUMI.txt\n",
      "[2024-08-06 13:43:34,566]    INFO [count] Inspecting BUS file sample7/output_umi.bus\n",
      "[2024-08-06 13:43:36,069]    INFO [count] Sorting BUS file sample7/output_umi.bus to sample7/output_umi.unfiltered.bus\n",
      "[2024-08-06 13:43:42,178]    INFO [count] Generating count matrix sample7/counts_unfiltered_umi/cells_x_genes from BUS file sample7/output_umi.unfiltered.bus\n",
      "[2024-08-06 13:43:54,195]    INFO [count] Writing gene names to file sample7/counts_unfiltered_umi/cells_x_genes.genes.names.txt\n",
      "[2024-08-06 13:43:54,307] WARNING [count] 1599 gene IDs do not have corresponding valid gene names. These genes will use their gene IDs instead.\n",
      "[2024-08-06 13:43:54,328]    INFO [count] Reading matrix sample7/counts_unfiltered_umi/cells_x_genes.mtx\n",
      "[2024-08-06 13:43:57,188]    INFO [count] Writing matrix to h5ad sample7/counts_unfiltered_umi/adata.h5ad\n"
     ]
    }
   ],
   "source": [
    "##SAMPLE7\n",
    "!kb count -i index.idx -g t2g.txt -x SMARTSEQ3 -o sample7 --h5ad\\\n",
    "/home/melma31/Documents/single_cell_sequencing/data/sample7/P29910_1002_S6_I1_001.fastq.gz \\\n",
    "/home/melma31/Documents/single_cell_sequencing/data/sample7/P29910_1002_S6_I2_001.fastq.gz \\\n",
    "/home/melma31/Documents/single_cell_sequencing/data/sample7/P29910_1002_S6_R1_001.fastq.gz \\\n",
    "/home/melma31/Documents/single_cell_sequencing/data/sample7/P29910_1002_S6_R2_001.fastq.gz"
   ]
  },
  {
   "cell_type": "code",
   "execution_count": 14,
   "id": "9f1c919b-0e34-42fc-a63f-3d85ea027ad2",
   "metadata": {
    "tags": []
   },
   "outputs": [
    {
     "name": "stdout",
     "output_type": "stream",
     "text": [
      "[2024-08-06 14:02:42,938]    INFO [count] Using index index.idx to generate BUS file to sample8 from\n",
      "[2024-08-06 14:02:42,938]    INFO [count]         /home/melma31/Documents/single_cell_sequencing/data/sample8/P30855_101_S6_I1_001.fastq.gz\n",
      "[2024-08-06 14:02:42,938]    INFO [count]         /home/melma31/Documents/single_cell_sequencing/data/sample8/P30855_101_S6_I2_001.fastq.gz\n",
      "[2024-08-06 14:02:42,938]    INFO [count]         /home/melma31/Documents/single_cell_sequencing/data/sample8/P30855_101_S6_R1_001.fastq.gz\n",
      "[2024-08-06 14:02:42,938]    INFO [count]         /home/melma31/Documents/single_cell_sequencing/data/sample8/P30855_101_S6_R2_001.fastq.gz\n",
      "[2024-08-06 14:22:41,692]    INFO [count] Sorting BUS file sample8/output.bus to sample8/tmp/output.s.bus\n",
      "[2024-08-06 14:23:07,932]    INFO [count] On-list not provided\n",
      "[2024-08-06 14:23:07,932]    INFO [count] Generating on-list sample8/whitelist.txt from BUS file sample8/tmp/output.s.bus\n",
      "[2024-08-06 14:23:09,335]    INFO [count] Inspecting BUS file sample8/tmp/output.s.bus\n",
      "[2024-08-06 14:23:11,039]    INFO [count] Correcting BUS records in sample8/tmp/output.s.bus to sample8/tmp/output.s.c.bus with on-list sample8/whitelist.txt\n",
      "[2024-08-06 14:23:18,949]    INFO [count] Sorting BUS file sample8/tmp/output.s.c.bus to sample8/output.unfiltered.bus\n",
      "[2024-08-06 14:23:37,376]    INFO [count] Capturing records from BUS file sample8/output.unfiltered.bus to sample8/output_internal.bus with capture list sample8/capture_nonUMI.txt\n",
      "[2024-08-06 14:23:41,083]    INFO [count] Inspecting BUS file sample8/output_internal.bus\n",
      "[2024-08-06 14:23:42,186]    INFO [count] Sorting BUS file sample8/output_internal.bus to sample8/output_internal.unfiltered.bus\n",
      "[2024-08-06 14:23:45,491]    INFO [count] Generating count matrix sample8/counts_unfiltered_internal/cells_x_genes from BUS file sample8/output_internal.unfiltered.bus\n",
      "[2024-08-06 14:23:51,145]    INFO [count] Writing gene names to file sample8/counts_unfiltered_internal/cells_x_genes.genes.names.txt\n",
      "[2024-08-06 14:23:51,264] WARNING [count] 1599 gene IDs do not have corresponding valid gene names. These genes will use their gene IDs instead.\n",
      "[2024-08-06 14:23:51,278]    INFO [count] Reading matrix sample8/counts_unfiltered_internal/cells_x_genes.mtx\n",
      "[2024-08-06 14:23:53,704]    INFO [count] Writing matrix to h5ad sample8/counts_unfiltered_internal/adata.h5ad\n",
      "[2024-08-06 14:23:53,767]    INFO [count] Capturing records from BUS file sample8/output.unfiltered.bus to sample8/output_umi.bus with capture list sample8/capture_nonUMI.txt\n",
      "[2024-08-06 14:24:02,381]    INFO [count] Inspecting BUS file sample8/output_umi.bus\n",
      "[2024-08-06 14:24:03,884]    INFO [count] Sorting BUS file sample8/output_umi.bus to sample8/output_umi.unfiltered.bus\n",
      "[2024-08-06 14:24:12,598]    INFO [count] Generating count matrix sample8/counts_unfiltered_umi/cells_x_genes from BUS file sample8/output_umi.unfiltered.bus\n",
      "[2024-08-06 14:24:27,407]    INFO [count] Writing gene names to file sample8/counts_unfiltered_umi/cells_x_genes.genes.names.txt\n",
      "[2024-08-06 14:24:27,519] WARNING [count] 1599 gene IDs do not have corresponding valid gene names. These genes will use their gene IDs instead.\n",
      "[2024-08-06 14:24:27,536]    INFO [count] Reading matrix sample8/counts_unfiltered_umi/cells_x_genes.mtx\n",
      "[2024-08-06 14:24:30,844]    INFO [count] Writing matrix to h5ad sample8/counts_unfiltered_umi/adata.h5ad\n"
     ]
    }
   ],
   "source": [
    "##SAMPLE8\n",
    "!kb count -i index.idx -g t2g.txt -x SMARTSEQ3 -o sample8 --h5ad\\\n",
    "/home/melma31/Documents/single_cell_sequencing/data/sample8/P30855_101_S6_I1_001.fastq.gz \\\n",
    "/home/melma31/Documents/single_cell_sequencing/data/sample8/P30855_101_S6_I2_001.fastq.gz \\\n",
    "/home/melma31/Documents/single_cell_sequencing/data/sample8/P30855_101_S6_R1_001.fastq.gz \\\n",
    "/home/melma31/Documents/single_cell_sequencing/data/sample8/P30855_101_S6_R2_001.fastq.gz\n"
   ]
  },
  {
   "cell_type": "code",
   "execution_count": 15,
   "id": "c929c636-7857-4550-8f3f-7d5d973568b2",
   "metadata": {
    "tags": []
   },
   "outputs": [
    {
     "name": "stdout",
     "output_type": "stream",
     "text": [
      "[2024-08-06 14:24:51,913]    INFO [count] Using index index.idx to generate BUS file to sample9 from\n",
      "[2024-08-06 14:24:51,913]    INFO [count]         /home/melma31/Documents/single_cell_sequencing/data/sample9/P30855_103_S7_I1_001.fastq.gz\n",
      "[2024-08-06 14:24:51,913]    INFO [count]         /home/melma31/Documents/single_cell_sequencing/data/sample9/P30855_103_S7_I2_001.fastq.gz\n",
      "[2024-08-06 14:24:51,913]    INFO [count]         /home/melma31/Documents/single_cell_sequencing/data/sample9/P30855_103_S7_R1_001.fastq.gz\n",
      "[2024-08-06 14:24:51,913]    INFO [count]         /home/melma31/Documents/single_cell_sequencing/data/sample9/P30855_103_S7_R2_001.fastq.gz\n",
      "[2024-08-06 14:39:53,735]    INFO [count] Sorting BUS file sample9/output.bus to sample9/tmp/output.s.bus\n",
      "[2024-08-06 14:40:12,361]    INFO [count] On-list not provided\n",
      "[2024-08-06 14:40:12,361]    INFO [count] Generating on-list sample9/whitelist.txt from BUS file sample9/tmp/output.s.bus\n",
      "[2024-08-06 14:40:13,764]    INFO [count] Inspecting BUS file sample9/tmp/output.s.bus\n",
      "[2024-08-06 14:40:15,366]    INFO [count] Correcting BUS records in sample9/tmp/output.s.bus to sample9/tmp/output.s.c.bus with on-list sample9/whitelist.txt\n",
      "[2024-08-06 14:40:21,874]    INFO [count] Sorting BUS file sample9/tmp/output.s.c.bus to sample9/output.unfiltered.bus\n",
      "[2024-08-06 14:40:29,785]    INFO [count] Capturing records from BUS file sample9/output.unfiltered.bus to sample9/output_internal.bus with capture list sample9/capture_nonUMI.txt\n",
      "[2024-08-06 14:40:32,690]    INFO [count] Inspecting BUS file sample9/output_internal.bus\n",
      "[2024-08-06 14:40:33,792]    INFO [count] Sorting BUS file sample9/output_internal.bus to sample9/output_internal.unfiltered.bus\n",
      "[2024-08-06 14:40:36,497]    INFO [count] Generating count matrix sample9/counts_unfiltered_internal/cells_x_genes from BUS file sample9/output_internal.unfiltered.bus\n",
      "[2024-08-06 14:40:41,085]    INFO [count] Writing gene names to file sample9/counts_unfiltered_internal/cells_x_genes.genes.names.txt\n",
      "[2024-08-06 14:40:41,225] WARNING [count] 1599 gene IDs do not have corresponding valid gene names. These genes will use their gene IDs instead.\n",
      "[2024-08-06 14:40:41,246]    INFO [count] Reading matrix sample9/counts_unfiltered_internal/cells_x_genes.mtx\n",
      "[2024-08-06 14:40:43,180]    INFO [count] Writing matrix to h5ad sample9/counts_unfiltered_internal/adata.h5ad\n",
      "[2024-08-06 14:40:43,231]    INFO [count] Capturing records from BUS file sample9/output.unfiltered.bus to sample9/output_umi.bus with capture list sample9/capture_nonUMI.txt\n",
      "[2024-08-06 14:40:50,139]    INFO [count] Inspecting BUS file sample9/output_umi.bus\n",
      "[2024-08-06 14:40:51,642]    INFO [count] Sorting BUS file sample9/output_umi.bus to sample9/output_umi.unfiltered.bus\n",
      "[2024-08-06 14:40:58,654]    INFO [count] Generating count matrix sample9/counts_unfiltered_umi/cells_x_genes from BUS file sample9/output_umi.unfiltered.bus\n",
      "[2024-08-06 14:41:13,524]    INFO [count] Writing gene names to file sample9/counts_unfiltered_umi/cells_x_genes.genes.names.txt\n",
      "[2024-08-06 14:41:13,639] WARNING [count] 1599 gene IDs do not have corresponding valid gene names. These genes will use their gene IDs instead.\n",
      "[2024-08-06 14:41:13,656]    INFO [count] Reading matrix sample9/counts_unfiltered_umi/cells_x_genes.mtx\n",
      "[2024-08-06 14:41:17,036]    INFO [count] Writing matrix to h5ad sample9/counts_unfiltered_umi/adata.h5ad\n"
     ]
    }
   ],
   "source": [
    "##SAMPLE9\n",
    "!kb count -i index.idx -g t2g.txt -x SMARTSEQ3 -o sample9 --h5ad\\\n",
    "/home/melma31/Documents/single_cell_sequencing/data/sample9/P30855_103_S7_I1_001.fastq.gz \\\n",
    "/home/melma31/Documents/single_cell_sequencing/data/sample9/P30855_103_S7_I2_001.fastq.gz \\\n",
    "/home/melma31/Documents/single_cell_sequencing/data/sample9/P30855_103_S7_R1_001.fastq.gz \\\n",
    "/home/melma31/Documents/single_cell_sequencing/data/sample9/P30855_103_S7_R2_001.fastq.gz"
   ]
  },
  {
   "cell_type": "code",
   "execution_count": 16,
   "id": "4261bca3-69ae-4e3a-bb4b-a719d7157dad",
   "metadata": {
    "tags": []
   },
   "outputs": [
    {
     "name": "stdout",
     "output_type": "stream",
     "text": [
      "[2024-08-06 14:42:48,405]    INFO [count] Using index index.idx to generate BUS file to sample10 from\n",
      "[2024-08-06 14:42:48,405]    INFO [count]         /home/melma31/Documents/single_cell_sequencing/data/sample10/P30855_105_S8_I1_001.fastq.gz\n",
      "[2024-08-06 14:42:48,405]    INFO [count]         /home/melma31/Documents/single_cell_sequencing/data/sample10/P30855_105_S8_I2_001.fastq.gz\n",
      "[2024-08-06 14:42:48,405]    INFO [count]         /home/melma31/Documents/single_cell_sequencing/data/sample10/P30855_105_S8_R1_001.fastq.gz\n",
      "[2024-08-06 14:42:48,405]    INFO [count]         /home/melma31/Documents/single_cell_sequencing/data/sample10/P30855_105_S8_R2_001.fastq.gz\n",
      "[2024-08-06 14:59:57,944]    INFO [count] Sorting BUS file sample10/output.bus to sample10/tmp/output.s.bus\n",
      "[2024-08-06 15:00:16,466]    INFO [count] On-list not provided\n",
      "[2024-08-06 15:00:16,466]    INFO [count] Generating on-list sample10/whitelist.txt from BUS file sample10/tmp/output.s.bus\n",
      "[2024-08-06 15:00:17,668]    INFO [count] Inspecting BUS file sample10/tmp/output.s.bus\n",
      "[2024-08-06 15:00:19,071]    INFO [count] Correcting BUS records in sample10/tmp/output.s.bus to sample10/tmp/output.s.c.bus with on-list sample10/whitelist.txt\n",
      "[2024-08-06 15:00:24,478]    INFO [count] Sorting BUS file sample10/tmp/output.s.c.bus to sample10/output.unfiltered.bus\n",
      "[2024-08-06 15:00:30,787]    INFO [count] Capturing records from BUS file sample10/output.unfiltered.bus to sample10/output_internal.bus with capture list sample10/capture_nonUMI.txt\n",
      "[2024-08-06 15:00:33,592]    INFO [count] Inspecting BUS file sample10/output_internal.bus\n",
      "[2024-08-06 15:00:34,694]    INFO [count] Sorting BUS file sample10/output_internal.bus to sample10/output_internal.unfiltered.bus\n",
      "[2024-08-06 15:00:37,098]    INFO [count] Generating count matrix sample10/counts_unfiltered_internal/cells_x_genes from BUS file sample10/output_internal.unfiltered.bus\n",
      "[2024-08-06 15:00:41,901]    INFO [count] Writing gene names to file sample10/counts_unfiltered_internal/cells_x_genes.genes.names.txt\n",
      "[2024-08-06 15:00:42,029] WARNING [count] 1599 gene IDs do not have corresponding valid gene names. These genes will use their gene IDs instead.\n",
      "[2024-08-06 15:00:42,044]    INFO [count] Reading matrix sample10/counts_unfiltered_internal/cells_x_genes.mtx\n",
      "[2024-08-06 15:00:44,125]    INFO [count] Writing matrix to h5ad sample10/counts_unfiltered_internal/adata.h5ad\n",
      "[2024-08-06 15:00:44,177]    INFO [count] Capturing records from BUS file sample10/output.unfiltered.bus to sample10/output_umi.bus with capture list sample10/capture_nonUMI.txt\n",
      "[2024-08-06 15:00:49,584]    INFO [count] Inspecting BUS file sample10/output_umi.bus\n",
      "[2024-08-06 15:00:50,886]    INFO [count] Sorting BUS file sample10/output_umi.bus to sample10/output_umi.unfiltered.bus\n",
      "[2024-08-06 15:00:56,395]    INFO [count] Generating count matrix sample10/counts_unfiltered_umi/cells_x_genes from BUS file sample10/output_umi.unfiltered.bus\n",
      "[2024-08-06 15:01:06,913]    INFO [count] Writing gene names to file sample10/counts_unfiltered_umi/cells_x_genes.genes.names.txt\n",
      "[2024-08-06 15:01:07,038] WARNING [count] 1599 gene IDs do not have corresponding valid gene names. These genes will use their gene IDs instead.\n",
      "[2024-08-06 15:01:07,056]    INFO [count] Reading matrix sample10/counts_unfiltered_umi/cells_x_genes.mtx\n",
      "[2024-08-06 15:01:09,546]    INFO [count] Writing matrix to h5ad sample10/counts_unfiltered_umi/adata.h5ad\n"
     ]
    }
   ],
   "source": [
    "##SAMPLE10\n",
    "!kb count -i index.idx -g t2g.txt -x SMARTSEQ3 -o sample10 --h5ad\\\n",
    "/home/melma31/Documents/single_cell_sequencing/data/sample10/P30855_105_S8_I1_001.fastq.gz \\\n",
    "/home/melma31/Documents/single_cell_sequencing/data/sample10/P30855_105_S8_I2_001.fastq.gz \\\n",
    "/home/melma31/Documents/single_cell_sequencing/data/sample10/P30855_105_S8_R1_001.fastq.gz \\\n",
    "/home/melma31/Documents/single_cell_sequencing/data/sample10/P30855_105_S8_R2_001.fastq.gz\n"
   ]
  },
  {
   "cell_type": "code",
   "execution_count": null,
   "id": "589465c2-65f8-424a-a671-debcaa95927b",
   "metadata": {},
   "outputs": [],
   "source": []
  }
 ],
 "metadata": {
  "kernelspec": {
   "display_name": "Python 3 (ipykernel)",
   "language": "python",
   "name": "python3"
  },
  "language_info": {
   "codemirror_mode": {
    "name": "ipython",
    "version": 3
   },
   "file_extension": ".py",
   "mimetype": "text/x-python",
   "name": "python",
   "nbconvert_exporter": "python",
   "pygments_lexer": "ipython3",
   "version": "3.11.5"
  }
 },
 "nbformat": 4,
 "nbformat_minor": 5
}
