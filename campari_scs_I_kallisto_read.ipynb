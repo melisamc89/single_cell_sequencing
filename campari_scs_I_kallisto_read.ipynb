{
 "cells": [
  {
   "cell_type": "markdown",
   "id": "43124cac",
   "metadata": {},
   "source": [
    "# Single Cell Sequencing : kallisto readout\n",
    "\n",
    "It includes reading from fastq files using Kallisto (for that the mouse index of genes is required).\n",
    "\n",
    "\n",
    "\n",
    "IMPORTANT: AFTER RUNNING THIS, AND BEFORE GOING TO QUALITY CONTROL SOME OF THE .TXT FILES NEED TO HAVE A MANUAL MODIFICATION SO THEY CAN ME READ AS A PANDAS STRUCTURE LATER! I WILL SHOW THIS MANUALLY"
   ]
  },
  {
   "cell_type": "code",
   "execution_count": 1,
   "id": "61f0d05a",
   "metadata": {},
   "outputs": [],
   "source": [
    "# This is  used to time the running of the notebook\n",
    "import time\n",
    "start_time = time.time()"
   ]
  },
  {
   "cell_type": "code",
   "execution_count": 2,
   "id": "962fad7e",
   "metadata": {},
   "outputs": [
    {
     "name": "stdout",
     "output_type": "stream",
     "text": [
      "Requirement already satisfied: loompy in /home/melma31/mambaforge/lib/python3.10/site-packages (3.0.7)\n",
      "Requirement already satisfied: numpy in /home/melma31/mambaforge/lib/python3.10/site-packages (from loompy) (1.24.4)\n",
      "Requirement already satisfied: click in /home/melma31/mambaforge/lib/python3.10/site-packages (from loompy) (8.1.3)\n",
      "Requirement already satisfied: numba in /home/melma31/mambaforge/lib/python3.10/site-packages (from loompy) (0.57.1)\n",
      "Requirement already satisfied: scipy in /home/melma31/mambaforge/lib/python3.10/site-packages (from loompy) (1.11.2)\n",
      "Requirement already satisfied: h5py in /home/melma31/mambaforge/lib/python3.10/site-packages (from loompy) (3.7.0)\n",
      "Requirement already satisfied: numpy-groupies in /home/melma31/mambaforge/lib/python3.10/site-packages (from loompy) (0.9.20)\n",
      "Requirement already satisfied: setuptools in /home/melma31/mambaforge/lib/python3.10/site-packages (from loompy) (68.1.2)\n",
      "Requirement already satisfied: llvmlite<0.41,>=0.40.0dev0 in /home/melma31/mambaforge/lib/python3.10/site-packages (from numba->loompy) (0.40.1)\n",
      "CPU times: user 65.2 ms, sys: 29.5 ms, total: 94.7 ms\n",
      "Wall time: 8.34 s\n"
     ]
    }
   ],
   "source": [
    "%%time\n",
    "!pip install -U loompy\n",
    "!pip install --quiet matplotlib scikit-learn numpy scipy\n",
    "!pip3 install --quiet leidenalg\n",
    "!pip install --quiet louvain scanpy\n",
    "# install kb\n",
    "!pip install --quiet kb-python "
   ]
  },
  {
   "cell_type": "code",
   "execution_count": 3,
   "id": "d23706c6",
   "metadata": {},
   "outputs": [
    {
     "name": "stdout",
     "output_type": "stream",
     "text": [
      "[2023-10-26 12:26:32,469]    INFO [download] Skipping download because some files already exist. Use the --overwrite flag to overwrite.\r\n"
     ]
    }
   ],
   "source": [
    "### For comparing your sequencing with the already known genome you need to download the apropiate gene atlas\n",
    "### Use kallisto to download mouse index here\n",
    "\n",
    "!kb ref -d mouse -i index.idx -g t2g.txt"
   ]
  },
  {
   "cell_type": "code",
   "execution_count": 4,
   "id": "22f2cd7a",
   "metadata": {},
   "outputs": [],
   "source": [
    "###SAMPLE1\n",
    "\n",
    "# This step runs `kb` to pseudoalign the reads, and then generate the cells x gene matrix in h5ad format.\n",
    "### genrealal structure:\n",
    "# index.idx and t2g.txt are files that were downloaded on the previous cell. They refer to the gene atlas\n",
    "# -x is the input to the sequencing technique that was use. Kallisto supports multiple sequencing techniques\n",
    "# (check kb --list for more information)\n",
    "# SMARTSEQ3 is the method we used for this sequencing\n",
    "# (this sequencing format requires 4 files to be processed togehter, to put all of them as inputs)\n",
    "# the 4 files have always names x_I1_001.fastq.gz, x_I2_001.fastq.gz, x_R1_001.fastq.gz and x_R2_001.fastq.gz\n",
    "# --h4ad is the desired output format. If loom file is prefered, just changed it there. "
   ]
  },
  {
   "cell_type": "code",
   "execution_count": 5,
   "id": "c7cba5e4",
   "metadata": {},
   "outputs": [],
   "source": [
    "###SAMPLE1\n",
    "#!kb count -i index.idx -g t2g.txt -x SMARTSEQ3 -o sample1 --h5ad\\\n",
    "#/home/melma31/Documents/single_cell_sequencing/data/sample1/P28203_5007_S7_I1_001.fastq.gz \\\n",
    "#/home/melma31/Documents/single_cell_sequencing/data/sample1/P28203_5007_S7_I2_001.fastq.gz \\\n",
    "#/home/melma31/Documents/single_cell_sequencing/data/sample1/P28203_5007_S7_R1_001.fastq.gz \\\n",
    "#/home/melma31/Documents/single_cell_sequencing/data/sample1/P28203_5007_S7_R2_001.fastq.gz "
   ]
  },
  {
   "cell_type": "code",
   "execution_count": 6,
   "id": "3d571679",
   "metadata": {},
   "outputs": [],
   "source": [
    "###SAMPLE2\n",
    "#!kb count -i index.idx -g t2g.txt -x SMARTSEQ3 -o sample2 --h5ad\\\n",
    "#/home/melma31/Documents/single_cell_sequencing/data/sample2/P28605_8001_S1_I1_001.fastq.gz \\\n",
    "#/home/melma31/Documents/single_cell_sequencing/data/sample2/P28605_8001_S1_I2_001.fastq.gz \\\n",
    "#/home/melma31/Documents/single_cell_sequencing/data/sample2/P28605_8001_S1_R1_001.fastq.gz \\\n",
    "#/home/melma31/Documents/single_cell_sequencing/data/sample2/P28605_8001_S1_R2_001.fastq.gz "
   ]
  },
  {
   "cell_type": "code",
   "execution_count": 7,
   "id": "8462b905",
   "metadata": {},
   "outputs": [],
   "source": [
    "###SAMPLE3\n",
    "#!kb count -i index.idx -g t2g.txt -x SMARTSEQ3 -o sample3 --h5ad\\\n",
    "#/home/melma31/Documents/single_cell_sequencing/data/sample3/P29058_6012_S12_I1_001.fastq.gz \\\n",
    "#/home/melma31/Documents/single_cell_sequencing/data/sample3/P29058_6012_S12_I2_001.fastq.gz \\\n",
    "#/home/melma31/Documents/single_cell_sequencing/data/sample3/P29058_6012_S12_R1_001.fastq.gz \\\n",
    "#/home/melma31/Documents/single_cell_sequencing/data/sample3/P29058_6012_S12_R2_001.fastq.gz "
   ]
  },
  {
   "cell_type": "code",
   "execution_count": 8,
   "id": "4cb816c0",
   "metadata": {},
   "outputs": [
    {
     "name": "stdout",
     "output_type": "stream",
     "text": [
      "[2023-10-26 12:26:59,324]    INFO [count_smartseq3] Using index index.idx to generate BUS file to sample4 from\n",
      "[2023-10-26 12:26:59,325]    INFO [count_smartseq3]         /home/melma31/Documents/single_cell_sequencing/data/sample4/P28606_1001_S14_I1_001.fastq.gz\n",
      "[2023-10-26 12:26:59,325]    INFO [count_smartseq3]         /home/melma31/Documents/single_cell_sequencing/data/sample4/P28606_1001_S14_I2_001.fastq.gz\n",
      "[2023-10-26 12:26:59,325]    INFO [count_smartseq3]         /home/melma31/Documents/single_cell_sequencing/data/sample4/P28606_1001_S14_R1_001.fastq.gz\n",
      "[2023-10-26 12:26:59,325]    INFO [count_smartseq3]         /home/melma31/Documents/single_cell_sequencing/data/sample4/P28606_1001_S14_R2_001.fastq.gz\n",
      "[2023-10-26 12:36:56,447]    INFO [count_smartseq3] Sorting BUS file sample4/output.bus to sample4/tmp/output.s.bus\n",
      "[2023-10-26 12:37:23,295]    INFO [count_smartseq3] Whitelist not provided\n",
      "[2023-10-26 12:37:23,295]    INFO [count_smartseq3] Generating whitelist sample4/whitelist.txt from BUS file sample4/tmp/output.s.bus\n",
      "[2023-10-26 12:37:24,598]    INFO [count_smartseq3] Inspecting BUS file sample4/tmp/output.s.bus\n",
      "[2023-10-26 12:37:26,102]    INFO [count_smartseq3] Correcting BUS records in sample4/tmp/output.s.bus to sample4/tmp/output.s.c.bus with whitelist sample4/whitelist.txt\n",
      "[2023-10-26 12:37:31,915]    INFO [count_smartseq3] Sorting BUS file sample4/tmp/output.s.c.bus to sample4/output.unfiltered.bus\n",
      "[2023-10-26 12:37:48,750]    INFO [count_smartseq3] Capturing records from BUS file sample4/output.unfiltered.bus to sample4/output_internal.bus with capture list sample4/capture_nonUMI.txt\n",
      "[2023-10-26 12:37:52,258]    INFO [count_smartseq3] Inspecting BUS file sample4/output_internal.bus\n",
      "[2023-10-26 12:37:53,362]    INFO [count_smartseq3] Generating count matrix sample4/counts_unfiltered_internal/cells_x_genes from BUS file sample4/output_internal.bus\n",
      "[2023-10-26 12:38:00,901]    INFO [count_smartseq3] Reading matrix sample4/counts_unfiltered_internal/cells_x_genes.mtx\n",
      "[2023-10-26 12:38:04,551]    INFO [count_smartseq3] Writing matrix to h5ad sample4/counts_unfiltered_internal/adata.h5ad\n",
      "[2023-10-26 12:38:04,652]    INFO [count_smartseq3] Capturing records from BUS file sample4/output.unfiltered.bus to sample4/output_umi.bus with capture list sample4/capture_nonUMI.txt\n",
      "[2023-10-26 12:38:12,070]    INFO [count_smartseq3] Inspecting BUS file sample4/output_umi.bus\n",
      "[2023-10-26 12:38:13,474]    INFO [count_smartseq3] Generating count matrix sample4/counts_unfiltered_umi/cells_x_genes from BUS file sample4/output_umi.bus\n",
      "[2023-10-26 12:38:28,622]    INFO [count_smartseq3] Reading matrix sample4/counts_unfiltered_umi/cells_x_genes.mtx\n",
      "[2023-10-26 12:38:32,842]    INFO [count_smartseq3] Writing matrix to h5ad sample4/counts_unfiltered_umi/adata.h5ad\n"
     ]
    }
   ],
   "source": [
    "###SAMPLE4\n",
    "!kb count -i index.idx -g t2g.txt -x SMARTSEQ3 -o sample4 --h5ad\\\n",
    "/home/melma31/Documents/single_cell_sequencing/data/sample4/P28606_1001_S14_I1_001.fastq.gz \\\n",
    "/home/melma31/Documents/single_cell_sequencing/data/sample4/P28606_1001_S14_I2_001.fastq.gz \\\n",
    "/home/melma31/Documents/single_cell_sequencing/data/sample4/P28606_1001_S14_R1_001.fastq.gz \\\n",
    "/home/melma31/Documents/single_cell_sequencing/data/sample4/P28606_1001_S14_R2_001.fastq.gz "
   ]
  },
  {
   "cell_type": "code",
   "execution_count": 9,
   "id": "18061a80",
   "metadata": {},
   "outputs": [
    {
     "name": "stdout",
     "output_type": "stream",
     "text": [
      "[2023-10-26 12:38:40,647]    INFO [count_smartseq3] Using index index.idx to generate BUS file to sample5 from\n",
      "[2023-10-26 12:38:40,647]    INFO [count_smartseq3]         /home/melma31/Documents/single_cell_sequencing/data/sample5/P28606_1002_S15_I1_001.fastq.gz\n",
      "[2023-10-26 12:38:40,647]    INFO [count_smartseq3]         /home/melma31/Documents/single_cell_sequencing/data/sample5/P28606_1002_S15_I2_001.fastq.gz\n",
      "[2023-10-26 12:38:40,647]    INFO [count_smartseq3]         /home/melma31/Documents/single_cell_sequencing/data/sample5/P28606_1002_S15_R1_001.fastq.gz\n",
      "[2023-10-26 12:38:40,647]    INFO [count_smartseq3]         /home/melma31/Documents/single_cell_sequencing/data/sample5/P28606_1002_S15_R2_001.fastq.gz\n",
      "[2023-10-26 12:48:19,120]    INFO [count_smartseq3] Sorting BUS file sample5/output.bus to sample5/tmp/output.s.bus\n",
      "[2023-10-26 12:48:47,071]    INFO [count_smartseq3] Whitelist not provided\n",
      "[2023-10-26 12:48:47,072]    INFO [count_smartseq3] Generating whitelist sample5/whitelist.txt from BUS file sample5/tmp/output.s.bus\n",
      "[2023-10-26 12:48:48,375]    INFO [count_smartseq3] Inspecting BUS file sample5/tmp/output.s.bus\n",
      "[2023-10-26 12:48:49,779]    INFO [count_smartseq3] Correcting BUS records in sample5/tmp/output.s.bus to sample5/tmp/output.s.c.bus with whitelist sample5/whitelist.txt\n",
      "[2023-10-26 12:48:55,190]    INFO [count_smartseq3] Sorting BUS file sample5/tmp/output.s.c.bus to sample5/output.unfiltered.bus\n",
      "[2023-10-26 12:49:10,119]    INFO [count_smartseq3] Capturing records from BUS file sample5/output.unfiltered.bus to sample5/output_internal.bus with capture list sample5/capture_nonUMI.txt\n",
      "[2023-10-26 12:49:13,125]    INFO [count_smartseq3] Inspecting BUS file sample5/output_internal.bus\n",
      "[2023-10-26 12:49:14,228]    INFO [count_smartseq3] Generating count matrix sample5/counts_unfiltered_internal/cells_x_genes from BUS file sample5/output_internal.bus\n",
      "[2023-10-26 12:49:23,207]    INFO [count_smartseq3] Reading matrix sample5/counts_unfiltered_internal/cells_x_genes.mtx\n",
      "[2023-10-26 12:49:27,634]    INFO [count_smartseq3] Writing matrix to h5ad sample5/counts_unfiltered_internal/adata.h5ad\n",
      "[2023-10-26 12:49:27,732]    INFO [count_smartseq3] Capturing records from BUS file sample5/output.unfiltered.bus to sample5/output_umi.bus with capture list sample5/capture_nonUMI.txt\n",
      "[2023-10-26 12:49:32,141]    INFO [count_smartseq3] Inspecting BUS file sample5/output_umi.bus\n",
      "[2023-10-26 12:49:33,544]    INFO [count_smartseq3] Generating count matrix sample5/counts_unfiltered_umi/cells_x_genes from BUS file sample5/output_umi.bus\n",
      "[2023-10-26 12:49:46,526]    INFO [count_smartseq3] Reading matrix sample5/counts_unfiltered_umi/cells_x_genes.mtx\n",
      "[2023-10-26 12:49:50,559]    INFO [count_smartseq3] Writing matrix to h5ad sample5/counts_unfiltered_umi/adata.h5ad\n"
     ]
    }
   ],
   "source": [
    "###SAMPLE5\n",
    "!kb count -i index.idx -g t2g.txt -x SMARTSEQ3 -o sample5 --h5ad\\\n",
    "/home/melma31/Documents/single_cell_sequencing/data/sample5/P28606_1002_S15_I1_001.fastq.gz \\\n",
    "/home/melma31/Documents/single_cell_sequencing/data/sample5/P28606_1002_S15_I2_001.fastq.gz \\\n",
    "/home/melma31/Documents/single_cell_sequencing/data/sample5/P28606_1002_S15_R1_001.fastq.gz \\\n",
    "/home/melma31/Documents/single_cell_sequencing/data/sample5/P28606_1002_S15_R2_001.fastq.gz "
   ]
  },
  {
   "cell_type": "code",
   "execution_count": null,
   "id": "aa342f6c",
   "metadata": {},
   "outputs": [],
   "source": [
    "###SAMPLE6\n",
    "#!kb count -i index.idx -g t2g.txt -x SMARTSEQ3 -o sample3 --h5ad\\\n",
    "#/home/melma31/Documents/single_cell_sequencing/data/sample3/..._I1_001.fastq.gz \\\n",
    "#/home/melma31/Documents/single_cell_sequencing/data/sample3/..._I2_001.fastq.gz \\\n",
    "#/home/melma31/Documents/single_cell_sequencing/data/sample3/..._R1_001.fastq.gz \\\n",
    "#/home/melma31/Documents/single_cell_sequencing/data/sample3/..._R2_001.fastq.gz "
   ]
  }
 ],
 "metadata": {
  "kernelspec": {
   "display_name": "Python 3 (ipykernel)",
   "language": "python",
   "name": "python3"
  },
  "language_info": {
   "codemirror_mode": {
    "name": "ipython",
    "version": 3
   },
   "file_extension": ".py",
   "mimetype": "text/x-python",
   "name": "python",
   "nbconvert_exporter": "python",
   "pygments_lexer": "ipython3",
   "version": "3.10.8"
  }
 },
 "nbformat": 4,
 "nbformat_minor": 5
}
